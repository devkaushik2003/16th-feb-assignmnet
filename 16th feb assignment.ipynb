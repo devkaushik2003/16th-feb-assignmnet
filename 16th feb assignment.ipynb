{
 "cells": [
  {
   "cell_type": "code",
   "execution_count": null,
   "metadata": {},
   "outputs": [],
   "source": []
  },
  {
   "attachments": {},
   "cell_type": "markdown",
   "metadata": {},
   "source": [
    "What is a database? Differentiate between SQL and NoSQL databases."
   ]
  },
  {
   "attachments": {},
   "cell_type": "markdown",
   "metadata": {},
   "source": [
    "SQL Databases:\n",
    "SQL stands for Structured Query Language, which is a programming language used to manage relational databases. SQL databases are based on a table-based data model, where data is organized into tables, columns, and rows"
   ]
  },
  {
   "attachments": {},
   "cell_type": "markdown",
   "metadata": {},
   "source": [
    "NoSQL Databases:\n",
    "NoSQL stands for Not Only SQL, which means it is not limited to SQL-based data management. NoSQL databases are designed to handle large volumes of unstructured or semi-structured data. NoSQL databases use a variety of data models, such as document-based, key-value pairs, column family, and graph. NoSQL databases are more flexible than SQL databases and are suitable for storing data that changes frequently or has no predefined structure, such as social media data, sensor data, and multimedia data"
   ]
  },
  {
   "attachments": {},
   "cell_type": "markdown",
   "metadata": {},
   "source": [
    "What is DDL? Explain why CREATE, DROP, ALTER, and TRUNCATE are used with an example."
   ]
  },
  {
   "attachments": {},
   "cell_type": "markdown",
   "metadata": {},
   "source": [
    "DDL stands for Data Definition Language, which is a set of SQL commands used to define and manipulate the structure of database objects such as tables, indexes, and views."
   ]
  },
  {
   "attachments": {},
   "cell_type": "markdown",
   "metadata": {},
   "source": [
    "CREATE: The CREATE command is used to create a new database object such as a table, index, or view. For example, the following SQL command creates a new table called \"Customers\" with columns for name, email, and phone number:"
   ]
  },
  {
   "attachments": {},
   "cell_type": "markdown",
   "metadata": {},
   "source": [
    "CREATE TABLE Customers (\n",
    "  Name VARCHAR(50),\n",
    "  Email VARCHAR(50),\n",
    "  Phone VARCHAR(20)\n",
    ");\n"
   ]
  },
  {
   "attachments": {},
   "cell_type": "markdown",
   "metadata": {},
   "source": [
    "DROP: The DROP command is used to remove an existing database object such as a table, index, or view. For example, the following SQL command drops the \"Customers\" table:\n",
    "\n",
    "DROP TABLE Customers;"
   ]
  },
  {
   "attachments": {},
   "cell_type": "markdown",
   "metadata": {},
   "source": [
    "ALTER: The ALTER command is used to modify an existing database object such as a table or view. For example, the following SQL command adds a new column called \"Address\" to the \"Customers\" table:\n",
    "ALTER TABLE Customers\n",
    "ADD Address VARCHAR(100);"
   ]
  },
  {
   "attachments": {},
   "cell_type": "markdown",
   "metadata": {},
   "source": [
    "TRUNCATE: The TRUNCATE command is used to delete all data from an existing table while keeping its structure intact. For example, the following SQL command deletes all data from the \"Customers\" table:\n",
    "TRUNCATE TABLE Customers;"
   ]
  },
  {
   "attachments": {},
   "cell_type": "markdown",
   "metadata": {},
   "source": [
    "What is DML? Explain INSERT, UPDATE, and DELETE with an example."
   ]
  },
  {
   "attachments": {},
   "cell_type": "markdown",
   "metadata": {},
   "source": [
    "DML stands for Data Manipulation Language, which is a set of SQL commands used to manipulate data within a database. DML commands are used to add, modify, and delete data from database tables."
   ]
  },
  {
   "attachments": {},
   "cell_type": "markdown",
   "metadata": {},
   "source": [
    "INSERT: The INSERT command is used to add new rows of data to a database table. For example, the following SQL command inserts a new row into the \"Customers\" table with values for the name, email, and phone number columns:\n",
    "\n",
    "INSERT INTO Customers (Name, Email, Phone)\n",
    "VALUES ('John Smith', 'john.smith@example.com', '555-1234');"
   ]
  },
  {
   "attachments": {},
   "cell_type": "markdown",
   "metadata": {},
   "source": [
    "UPDATE: The UPDATE command is used to modify existing data within a database table. For example, the following SQL command updates the phone number for the customer with the name \"John Smith\" in the \"Customers\" table:\n",
    "UPDATE Customers\n",
    "SET Phone = '555-5678'\n",
    "WHERE Name = 'John Smith';"
   ]
  },
  {
   "attachments": {},
   "cell_type": "markdown",
   "metadata": {},
   "source": [
    "DELETE: The DELETE command is used to remove data from a database table. For example, the following SQL command deletes the row for the customer with the name \"John Smith\" from the \"Customers\" table:\n",
    "\n",
    "DELETE FROM Customers\n",
    "WHERE Name = 'John Smith';"
   ]
  },
  {
   "cell_type": "markdown",
   "metadata": {},
   "source": []
  },
  {
   "attachments": {},
   "cell_type": "markdown",
   "metadata": {},
   "source": [
    "What is DQL? Explain SELECT with an example."
   ]
  },
  {
   "attachments": {},
   "cell_type": "markdown",
   "metadata": {},
   "source": [
    "DQL stands for Data Query Language, which is a set of SQL commands used to query or retrieve data from a database. The most common DQL command is SELECT, which is used to select data from one or more tables in a database."
   ]
  },
  {
   "attachments": {},
   "cell_type": "markdown",
   "metadata": {},
   "source": [
    "The basic syntax for SELECT is as follows:\n",
    "SELECT column1, column2, ...\n",
    "FROM table_name;\n",
    "This command selects data from one or more columns in a table, specified by column1, column2, and so on. The FROM clause specifies the name of the table to select data from.\n",
    "\n",
    "For example, consider a database table called \"Employees\" with columns for the employee ID, name, and salary. The following SQL command selects all data\n",
    "SELECT *\n",
    "FROM Employees;"
   ]
  },
  {
   "attachments": {},
   "cell_type": "markdown",
   "metadata": {},
   "source": [
    "Explain Primary Key and Foreign Key."
   ]
  },
  {
   "attachments": {},
   "cell_type": "markdown",
   "metadata": {},
   "source": [
    "Primary key and foreign key are two important concepts in relational databases. They are used to establish relationships between tables in a database.\n",
    "\n",
    "A primary key is a column or set of columns in a table that uniquely identifies each row of data in that table. A primary key must be unique and cannot contain null values"
   ]
  },
  {
   "attachments": {},
   "cell_type": "markdown",
   "metadata": {},
   "source": [
    "CREATE TABLE Customers (\n",
    "  CustomerID INT PRIMARY KEY,\n",
    "  Name VARCHAR(50),\n",
    "  Email VARCHAR(50)\n",
    ");\n"
   ]
  },
  {
   "attachments": {},
   "cell_type": "markdown",
   "metadata": {},
   "source": [
    "A foreign key is a column or set of columns in one table that refers to the primary key of another table. A foreign key establishes a relationship between the two tables, allowing us to join data from both tables in a query. The foreign key constraint ensures that the data in the foreign key column(s) of one table corresponds to the data in the primary key column(s) of another table."
   ]
  },
  {
   "attachments": {},
   "cell_type": "markdown",
   "metadata": {},
   "source": [
    "CREATE TABLE Orders (\n",
    "  OrderID INT PRIMARY KEY,\n",
    "  CustomerID INT,\n",
    "  OrderDate DATE,\n",
    "  FOREIGN KEY (CustomerID) REFERENCES Customers(CustomerID)\n",
    ");\n"
   ]
  },
  {
   "attachments": {},
   "cell_type": "markdown",
   "metadata": {},
   "source": [
    "Write a python code to connect MySQL to python. Explain the cursor() and execute() method."
   ]
  },
  {
   "cell_type": "code",
   "execution_count": null,
   "metadata": {},
   "outputs": [],
   "source": [
    "import mysql.connector\n",
    "# import mysql.connector\n",
    "#create user 'user'@'%' identified by 'password'\n",
    "mydb = mysql.connector.connect(\n",
    "  host=\"localhost\",\n",
    "  user=\"abc\",\n",
    "  password=\"password\"\n",
    ")\n",
    "mycursor = mydb.cursor()\n",
    "mycursor.execute(\"select * from newdatabase3.table3\")\n",
    "for i in mycursor.fetchall():\n",
    "    print(i)\n",
    "\n",
    "mydb.close()"
   ]
  },
  {
   "attachments": {},
   "cell_type": "markdown",
   "metadata": {},
   "source": [
    "Give the order of execution of SQL clauses in an SQL query."
   ]
  },
  {
   "attachments": {},
   "cell_type": "markdown",
   "metadata": {},
   "source": [
    "The order of execution of SQL clauses in a query is as follows:\n",
    "\n",
    "FROM: This clause specifies the table or tables from which to retrieve data.\n",
    "JOIN: If the query involves joining data from multiple tables, the JOIN clause is used to specify the join conditions and the type of join to perform.\n",
    "WHERE: This clause specifies the conditions that must be met for a row of data to be included in the query result.\n",
    "GROUP BY: If the query includes aggregation functions such as COUNT, SUM, AVG, MAX, or MIN, the GROUP BY clause is used to group the data by one or more columns.\n",
    "HAVING: This clause specifies the conditions that must be met for a group of rows to be included in the query result.\n",
    "SELECT: This clause specifies the columns to retrieve from the table(s), as well as any calculated columns or aliases.\n",
    "DISTINCT: This clause removes duplicates from the result set.\n",
    "ORDER BY: This clause specifies the order in which to sort the result set based on one or more columns.\n",
    "LIMIT/OFFSET: This clause limits the number of rows returned by the query and/or specifies a starting point for the result set.\n"
   ]
  }
 ],
 "metadata": {
  "language_info": {
   "name": "python"
  },
  "orig_nbformat": 4
 },
 "nbformat": 4,
 "nbformat_minor": 2
}
